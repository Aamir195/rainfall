{
  "nbformat": 4,
  "nbformat_minor": 0,
  "metadata": {
    "kernelspec": {
      "display_name": "Python 3",
      "language": "python",
      "name": "python3"
    },
    "language_info": {
      "codemirror_mode": {
        "name": "ipython",
        "version": 3
      },
      "file_extension": ".py",
      "mimetype": "text/x-python",
      "name": "python",
      "nbconvert_exporter": "python",
      "pygments_lexer": "ipython3",
      "version": "3.8.5"
    },
    "colab": {
      "name": "RainfallPrediction.ipynb",
      "provenance": [],
      "collapsed_sections": [],
      "include_colab_link": true
    }
  },
  "cells": [
    {
      "cell_type": "markdown",
      "metadata": {
        "id": "view-in-github",
        "colab_type": "text"
      },
      "source": [
        "<a href=\"https://colab.research.google.com/github/Aamir195/rainfall/blob/main/RainfallPrediction.ipynb\" target=\"_parent\"><img src=\"https://colab.research.google.com/assets/colab-badge.svg\" alt=\"Open In Colab\"/></a>"
      ]
    },
    {
      "cell_type": "code",
      "metadata": {
        "id": "e9g8m2lfj7Ew"
      },
      "source": [
        "# importing necessary libraries\n",
        "import numpy as np\n",
        "import pandas as pd\n",
        "import matplotlib.pyplot as plt"
      ],
      "execution_count": null,
      "outputs": []
    },
    {
      "cell_type": "code",
      "metadata": {
        "colab": {
          "base_uri": "https://localhost:8080/"
        },
        "id": "sAIwljfoNWam",
        "outputId": "677314fa-e1bc-448d-afdc-2b6378c1f685"
      },
      "source": [
        "from google.colab import drive\n",
        "drive.mount('/content/drive')"
      ],
      "execution_count": null,
      "outputs": [
        {
          "output_type": "stream",
          "name": "stdout",
          "text": [
            "Drive already mounted at /content/drive; to attempt to forcibly remount, call drive.mount(\"/content/drive\", force_remount=True).\n"
          ]
        }
      ]
    },
    {
      "cell_type": "code",
      "metadata": {
        "id": "H6O7FbQhj7E6",
        "colab": {
          "base_uri": "https://localhost:8080/"
        },
        "outputId": "48ec9156-bbe6-4882-abdf-efdce6f060d8"
      },
      "source": [
        "# reading the dataset\n",
        "df = pd.read_csv('/content/drive/MyDrive/Datasets/goverment data 1901-2017.csv')\n",
        "print(df.shape)"
      ],
      "execution_count": null,
      "outputs": [
        {
          "output_type": "stream",
          "name": "stdout",
          "text": [
            "(4188, 19)\n"
          ]
        }
      ]
    },
    {
      "cell_type": "code",
      "metadata": {
        "id": "hdwOWglXj7FA",
        "colab": {
          "base_uri": "https://localhost:8080/",
          "height": 206
        },
        "outputId": "b9642284-f93e-417e-85cb-91dcf1b246f5"
      },
      "source": [
        "df.head()"
      ],
      "execution_count": null,
      "outputs": [
        {
          "output_type": "execute_result",
          "data": {
            "text/html": [
              "<div>\n",
              "<style scoped>\n",
              "    .dataframe tbody tr th:only-of-type {\n",
              "        vertical-align: middle;\n",
              "    }\n",
              "\n",
              "    .dataframe tbody tr th {\n",
              "        vertical-align: top;\n",
              "    }\n",
              "\n",
              "    .dataframe thead th {\n",
              "        text-align: right;\n",
              "    }\n",
              "</style>\n",
              "<table border=\"1\" class=\"dataframe\">\n",
              "  <thead>\n",
              "    <tr style=\"text-align: right;\">\n",
              "      <th></th>\n",
              "      <th>SUBDIVISION</th>\n",
              "      <th>YEAR</th>\n",
              "      <th>JAN</th>\n",
              "      <th>FEB</th>\n",
              "      <th>MAR</th>\n",
              "      <th>APR</th>\n",
              "      <th>MAY</th>\n",
              "      <th>JUN</th>\n",
              "      <th>JUL</th>\n",
              "      <th>AUG</th>\n",
              "      <th>SEP</th>\n",
              "      <th>OCT</th>\n",
              "      <th>NOV</th>\n",
              "      <th>DEC</th>\n",
              "      <th>ANNUAL</th>\n",
              "      <th>JF</th>\n",
              "      <th>MAM</th>\n",
              "      <th>JJAS</th>\n",
              "      <th>OND</th>\n",
              "    </tr>\n",
              "  </thead>\n",
              "  <tbody>\n",
              "    <tr>\n",
              "      <th>0</th>\n",
              "      <td>Andaman &amp; Nicobar Islands</td>\n",
              "      <td>1901</td>\n",
              "      <td>49.2</td>\n",
              "      <td>87.1</td>\n",
              "      <td>29.2</td>\n",
              "      <td>2.3</td>\n",
              "      <td>528.8</td>\n",
              "      <td>517.5</td>\n",
              "      <td>365.1</td>\n",
              "      <td>481.1</td>\n",
              "      <td>332.6</td>\n",
              "      <td>388.5</td>\n",
              "      <td>558.2</td>\n",
              "      <td>33.6</td>\n",
              "      <td>3373.2</td>\n",
              "      <td>136.3</td>\n",
              "      <td>560.3</td>\n",
              "      <td>1696.3</td>\n",
              "      <td>980.3</td>\n",
              "    </tr>\n",
              "    <tr>\n",
              "      <th>1</th>\n",
              "      <td>Andaman &amp; Nicobar Islands</td>\n",
              "      <td>1902</td>\n",
              "      <td>0.0</td>\n",
              "      <td>159.8</td>\n",
              "      <td>12.2</td>\n",
              "      <td>0.0</td>\n",
              "      <td>446.1</td>\n",
              "      <td>537.1</td>\n",
              "      <td>228.9</td>\n",
              "      <td>753.7</td>\n",
              "      <td>666.2</td>\n",
              "      <td>197.2</td>\n",
              "      <td>359.0</td>\n",
              "      <td>160.5</td>\n",
              "      <td>3520.7</td>\n",
              "      <td>159.8</td>\n",
              "      <td>458.3</td>\n",
              "      <td>2185.9</td>\n",
              "      <td>716.7</td>\n",
              "    </tr>\n",
              "    <tr>\n",
              "      <th>2</th>\n",
              "      <td>Andaman &amp; Nicobar Islands</td>\n",
              "      <td>1903</td>\n",
              "      <td>12.7</td>\n",
              "      <td>144.0</td>\n",
              "      <td>0.0</td>\n",
              "      <td>1.0</td>\n",
              "      <td>235.1</td>\n",
              "      <td>479.9</td>\n",
              "      <td>728.4</td>\n",
              "      <td>326.7</td>\n",
              "      <td>339.0</td>\n",
              "      <td>181.2</td>\n",
              "      <td>284.4</td>\n",
              "      <td>225.0</td>\n",
              "      <td>2957.4</td>\n",
              "      <td>156.7</td>\n",
              "      <td>236.1</td>\n",
              "      <td>1874.0</td>\n",
              "      <td>690.6</td>\n",
              "    </tr>\n",
              "    <tr>\n",
              "      <th>3</th>\n",
              "      <td>Andaman &amp; Nicobar Islands</td>\n",
              "      <td>1904</td>\n",
              "      <td>9.4</td>\n",
              "      <td>14.7</td>\n",
              "      <td>0.0</td>\n",
              "      <td>202.4</td>\n",
              "      <td>304.5</td>\n",
              "      <td>495.1</td>\n",
              "      <td>502.0</td>\n",
              "      <td>160.1</td>\n",
              "      <td>820.4</td>\n",
              "      <td>222.2</td>\n",
              "      <td>308.7</td>\n",
              "      <td>40.1</td>\n",
              "      <td>3079.6</td>\n",
              "      <td>24.1</td>\n",
              "      <td>506.9</td>\n",
              "      <td>1977.6</td>\n",
              "      <td>571.0</td>\n",
              "    </tr>\n",
              "    <tr>\n",
              "      <th>4</th>\n",
              "      <td>Andaman &amp; Nicobar Islands</td>\n",
              "      <td>1905</td>\n",
              "      <td>1.3</td>\n",
              "      <td>0.0</td>\n",
              "      <td>3.3</td>\n",
              "      <td>26.9</td>\n",
              "      <td>279.5</td>\n",
              "      <td>628.7</td>\n",
              "      <td>368.7</td>\n",
              "      <td>330.5</td>\n",
              "      <td>297.0</td>\n",
              "      <td>260.7</td>\n",
              "      <td>25.4</td>\n",
              "      <td>344.7</td>\n",
              "      <td>2566.7</td>\n",
              "      <td>1.3</td>\n",
              "      <td>309.7</td>\n",
              "      <td>1624.9</td>\n",
              "      <td>630.8</td>\n",
              "    </tr>\n",
              "  </tbody>\n",
              "</table>\n",
              "</div>"
            ],
            "text/plain": [
              "                 SUBDIVISION  YEAR   JAN    FEB  ...     JF    MAM    JJAS    OND\n",
              "0  Andaman & Nicobar Islands  1901  49.2   87.1  ...  136.3  560.3  1696.3  980.3\n",
              "1  Andaman & Nicobar Islands  1902   0.0  159.8  ...  159.8  458.3  2185.9  716.7\n",
              "2  Andaman & Nicobar Islands  1903  12.7  144.0  ...  156.7  236.1  1874.0  690.6\n",
              "3  Andaman & Nicobar Islands  1904   9.4   14.7  ...   24.1  506.9  1977.6  571.0\n",
              "4  Andaman & Nicobar Islands  1905   1.3    0.0  ...    1.3  309.7  1624.9  630.8\n",
              "\n",
              "[5 rows x 19 columns]"
            ]
          },
          "metadata": {},
          "execution_count": 5
        }
      ]
    },
    {
      "cell_type": "code",
      "metadata": {
        "id": "I953dB33j7FD",
        "colab": {
          "base_uri": "https://localhost:8080/",
          "height": 320
        },
        "outputId": "a64991d9-2e41-41b9-d3f4-99f64a911d19"
      },
      "source": [
        "# insights about the data\n",
        "df.describe()"
      ],
      "execution_count": null,
      "outputs": [
        {
          "output_type": "execute_result",
          "data": {
            "text/html": [
              "<div>\n",
              "<style scoped>\n",
              "    .dataframe tbody tr th:only-of-type {\n",
              "        vertical-align: middle;\n",
              "    }\n",
              "\n",
              "    .dataframe tbody tr th {\n",
              "        vertical-align: top;\n",
              "    }\n",
              "\n",
              "    .dataframe thead th {\n",
              "        text-align: right;\n",
              "    }\n",
              "</style>\n",
              "<table border=\"1\" class=\"dataframe\">\n",
              "  <thead>\n",
              "    <tr style=\"text-align: right;\">\n",
              "      <th></th>\n",
              "      <th>YEAR</th>\n",
              "      <th>JAN</th>\n",
              "      <th>FEB</th>\n",
              "      <th>MAR</th>\n",
              "      <th>APR</th>\n",
              "      <th>MAY</th>\n",
              "      <th>JUN</th>\n",
              "      <th>JUL</th>\n",
              "      <th>AUG</th>\n",
              "      <th>SEP</th>\n",
              "      <th>OCT</th>\n",
              "      <th>NOV</th>\n",
              "      <th>DEC</th>\n",
              "      <th>ANNUAL</th>\n",
              "      <th>JF</th>\n",
              "      <th>MAM</th>\n",
              "      <th>JJAS</th>\n",
              "      <th>OND</th>\n",
              "    </tr>\n",
              "  </thead>\n",
              "  <tbody>\n",
              "    <tr>\n",
              "      <th>count</th>\n",
              "      <td>4188.000000</td>\n",
              "      <td>4184.000000</td>\n",
              "      <td>4185.000000</td>\n",
              "      <td>4182.000000</td>\n",
              "      <td>4184.000000</td>\n",
              "      <td>4185.000000</td>\n",
              "      <td>4183.000000</td>\n",
              "      <td>4181.000000</td>\n",
              "      <td>4184.000000</td>\n",
              "      <td>4182.000000</td>\n",
              "      <td>4181.000000</td>\n",
              "      <td>4177.000000</td>\n",
              "      <td>4178.000000</td>\n",
              "      <td>4162.000000</td>\n",
              "      <td>4182.000000</td>\n",
              "      <td>4179.000000</td>\n",
              "      <td>4178.000000</td>\n",
              "      <td>4175.000000</td>\n",
              "    </tr>\n",
              "    <tr>\n",
              "      <th>mean</th>\n",
              "      <td>1959.220630</td>\n",
              "      <td>18.938337</td>\n",
              "      <td>21.599427</td>\n",
              "      <td>27.412912</td>\n",
              "      <td>43.071845</td>\n",
              "      <td>85.660860</td>\n",
              "      <td>230.117475</td>\n",
              "      <td>347.020043</td>\n",
              "      <td>289.742185</td>\n",
              "      <td>197.316332</td>\n",
              "      <td>95.324707</td>\n",
              "      <td>39.496433</td>\n",
              "      <td>18.968645</td>\n",
              "      <td>1409.449207</td>\n",
              "      <td>40.522979</td>\n",
              "      <td>155.820914</td>\n",
              "      <td>1063.851580</td>\n",
              "      <td>153.648623</td>\n",
              "    </tr>\n",
              "    <tr>\n",
              "      <th>std</th>\n",
              "      <td>33.717097</td>\n",
              "      <td>33.793128</td>\n",
              "      <td>35.731734</td>\n",
              "      <td>46.927963</td>\n",
              "      <td>68.150985</td>\n",
              "      <td>122.695137</td>\n",
              "      <td>234.292087</td>\n",
              "      <td>268.850702</td>\n",
              "      <td>188.426071</td>\n",
              "      <td>135.547646</td>\n",
              "      <td>99.194851</td>\n",
              "      <td>68.358706</td>\n",
              "      <td>43.053759</td>\n",
              "      <td>902.599421</td>\n",
              "      <td>59.293904</td>\n",
              "      <td>201.198627</td>\n",
              "      <td>706.666045</td>\n",
              "      <td>166.863171</td>\n",
              "    </tr>\n",
              "    <tr>\n",
              "      <th>min</th>\n",
              "      <td>1901.000000</td>\n",
              "      <td>0.000000</td>\n",
              "      <td>0.000000</td>\n",
              "      <td>0.000000</td>\n",
              "      <td>0.000000</td>\n",
              "      <td>0.000000</td>\n",
              "      <td>0.400000</td>\n",
              "      <td>0.000000</td>\n",
              "      <td>0.000000</td>\n",
              "      <td>0.100000</td>\n",
              "      <td>0.000000</td>\n",
              "      <td>0.000000</td>\n",
              "      <td>0.000000</td>\n",
              "      <td>62.300000</td>\n",
              "      <td>0.000000</td>\n",
              "      <td>0.000000</td>\n",
              "      <td>57.400000</td>\n",
              "      <td>0.000000</td>\n",
              "    </tr>\n",
              "    <tr>\n",
              "      <th>25%</th>\n",
              "      <td>1930.000000</td>\n",
              "      <td>0.600000</td>\n",
              "      <td>0.500000</td>\n",
              "      <td>1.000000</td>\n",
              "      <td>3.000000</td>\n",
              "      <td>8.600000</td>\n",
              "      <td>70.800000</td>\n",
              "      <td>175.600000</td>\n",
              "      <td>155.850000</td>\n",
              "      <td>100.400000</td>\n",
              "      <td>14.600000</td>\n",
              "      <td>0.600000</td>\n",
              "      <td>0.100000</td>\n",
              "      <td>803.025000</td>\n",
              "      <td>4.000000</td>\n",
              "      <td>24.000000</td>\n",
              "      <td>573.850000</td>\n",
              "      <td>34.000000</td>\n",
              "    </tr>\n",
              "    <tr>\n",
              "      <th>50%</th>\n",
              "      <td>1959.000000</td>\n",
              "      <td>5.950000</td>\n",
              "      <td>6.500000</td>\n",
              "      <td>7.900000</td>\n",
              "      <td>15.450000</td>\n",
              "      <td>36.900000</td>\n",
              "      <td>138.800000</td>\n",
              "      <td>285.000000</td>\n",
              "      <td>258.500000</td>\n",
              "      <td>173.700000</td>\n",
              "      <td>65.200000</td>\n",
              "      <td>9.400000</td>\n",
              "      <td>3.000000</td>\n",
              "      <td>1120.350000</td>\n",
              "      <td>18.900000</td>\n",
              "      <td>74.800000</td>\n",
              "      <td>880.600000</td>\n",
              "      <td>97.700000</td>\n",
              "    </tr>\n",
              "    <tr>\n",
              "      <th>75%</th>\n",
              "      <td>1988.000000</td>\n",
              "      <td>22.000000</td>\n",
              "      <td>26.600000</td>\n",
              "      <td>31.375000</td>\n",
              "      <td>49.650000</td>\n",
              "      <td>97.800000</td>\n",
              "      <td>305.000000</td>\n",
              "      <td>418.500000</td>\n",
              "      <td>377.625000</td>\n",
              "      <td>266.125000</td>\n",
              "      <td>148.300000</td>\n",
              "      <td>45.300000</td>\n",
              "      <td>17.500000</td>\n",
              "      <td>1643.575000</td>\n",
              "      <td>50.175000</td>\n",
              "      <td>196.950000</td>\n",
              "      <td>1287.450000</td>\n",
              "      <td>211.800000</td>\n",
              "    </tr>\n",
              "    <tr>\n",
              "      <th>max</th>\n",
              "      <td>2017.000000</td>\n",
              "      <td>583.700000</td>\n",
              "      <td>403.500000</td>\n",
              "      <td>605.600000</td>\n",
              "      <td>595.100000</td>\n",
              "      <td>1168.600000</td>\n",
              "      <td>1609.900000</td>\n",
              "      <td>2362.800000</td>\n",
              "      <td>1664.600000</td>\n",
              "      <td>1222.000000</td>\n",
              "      <td>948.300000</td>\n",
              "      <td>648.900000</td>\n",
              "      <td>617.500000</td>\n",
              "      <td>6331.100000</td>\n",
              "      <td>699.500000</td>\n",
              "      <td>1745.800000</td>\n",
              "      <td>4536.900000</td>\n",
              "      <td>1252.500000</td>\n",
              "    </tr>\n",
              "  </tbody>\n",
              "</table>\n",
              "</div>"
            ],
            "text/plain": [
              "              YEAR          JAN  ...         JJAS          OND\n",
              "count  4188.000000  4184.000000  ...  4178.000000  4175.000000\n",
              "mean   1959.220630    18.938337  ...  1063.851580   153.648623\n",
              "std      33.717097    33.793128  ...   706.666045   166.863171\n",
              "min    1901.000000     0.000000  ...    57.400000     0.000000\n",
              "25%    1930.000000     0.600000  ...   573.850000    34.000000\n",
              "50%    1959.000000     5.950000  ...   880.600000    97.700000\n",
              "75%    1988.000000    22.000000  ...  1287.450000   211.800000\n",
              "max    2017.000000   583.700000  ...  4536.900000  1252.500000\n",
              "\n",
              "[8 rows x 18 columns]"
            ]
          },
          "metadata": {},
          "execution_count": 6
        }
      ]
    },
    {
      "cell_type": "markdown",
      "metadata": {
        "id": "KVMkY6tNudaH"
      },
      "source": [
        ""
      ]
    },
    {
      "cell_type": "code",
      "metadata": {
        "id": "Kbg8drGLj7FG"
      },
      "source": [
        "# removing irrelevant variables\n",
        "df.drop(['JF', 'MAM', 'JJAS', 'OND'], axis = 1, inplace = True)"
      ],
      "execution_count": null,
      "outputs": []
    },
    {
      "cell_type": "code",
      "metadata": {
        "id": "sv78-74Rj7FI",
        "colab": {
          "base_uri": "https://localhost:8080/"
        },
        "outputId": "78538d64-1844-4cca-852f-252f0b5c478b"
      },
      "source": [
        "# checking for missing values\n",
        "df.isna().sum()"
      ],
      "execution_count": null,
      "outputs": [
        {
          "output_type": "execute_result",
          "data": {
            "text/plain": [
              "SUBDIVISION     0\n",
              "YEAR            0\n",
              "JAN             4\n",
              "FEB             3\n",
              "MAR             6\n",
              "APR             4\n",
              "MAY             3\n",
              "JUN             5\n",
              "JUL             7\n",
              "AUG             4\n",
              "SEP             6\n",
              "OCT             7\n",
              "NOV            11\n",
              "DEC            10\n",
              "ANNUAL         26\n",
              "dtype: int64"
            ]
          },
          "metadata": {},
          "execution_count": 8
        }
      ]
    },
    {
      "cell_type": "code",
      "metadata": {
        "id": "Icgxt6Njj7FL",
        "colab": {
          "base_uri": "https://localhost:8080/"
        },
        "outputId": "f32e6297-dbd8-4ff2-df49-fc59d069c3e5"
      },
      "source": [
        "# Total Subdivisions\n",
        "len(df['SUBDIVISION'].unique())"
      ],
      "execution_count": null,
      "outputs": [
        {
          "output_type": "execute_result",
          "data": {
            "text/plain": [
              "36"
            ]
          },
          "metadata": {},
          "execution_count": 9
        }
      ]
    },
    {
      "cell_type": "code",
      "metadata": {
        "id": "HG-OwEb1j7FP",
        "colab": {
          "base_uri": "https://localhost:8080/"
        },
        "outputId": "66ec1890-2c8d-4c5d-cad0-0efb4bee546c"
      },
      "source": [
        "# Subdivision names\n",
        "df['SUBDIVISION'].unique()"
      ],
      "execution_count": null,
      "outputs": [
        {
          "output_type": "execute_result",
          "data": {
            "text/plain": [
              "array(['Andaman & Nicobar Islands', 'Arunachal Pradesh',\n",
              "       'Assam & Meghalaya', 'Naga Mani Mizo Tripura',\n",
              "       'Sub Himalayan West Bengal & Sikkim', 'Gangetic West Bengal',\n",
              "       'Orissa', 'Jharkhand', 'Bihar', 'East Uttar Pradesh',\n",
              "       'West Uttar Pradesh', 'Uttarakhand', 'Haryana Delhi & Chandigarh',\n",
              "       'Punjab', 'Himachal Pradesh', 'Jammu & Kashmir', 'West Rajasthan',\n",
              "       'East Rajasthan', 'West Madhya Pradesh', 'East Madhya Pradesh',\n",
              "       'Gujarat Region', 'Saurashtra & Kutch', 'Konkan & Goa',\n",
              "       'Madhya Maharashtra', 'Matathwada', 'Vidarbha', 'Chhattisgarh',\n",
              "       'Coastal Andhra Pradesh', 'Telangana', 'Rayalseema', 'Tamil Nadu',\n",
              "       'Coastal Karnataka', 'North Interior Karnataka',\n",
              "       'South Interior Karnataka', 'Kerala', 'Lakshadweep'], dtype=object)"
            ]
          },
          "metadata": {},
          "execution_count": 10
        }
      ]
    },
    {
      "cell_type": "code",
      "metadata": {
        "id": "S0xNLyb4OR20"
      },
      "source": [
        "# creating a mapping of subdivision and a value corressponding to that subdivision for encoding\n",
        "sub_div = {'SUBDIVISION':[],\n",
        "           'Value': []}\n",
        "\n",
        "i = 1\n",
        "for x in df['SUBDIVISION'].unique():\n",
        "  sub_div['SUBDIVISION'].append(x)\n",
        "  sub_div['Value'].append(i)\n",
        "  i += 1\n",
        "\n",
        "sub_div = pd.DataFrame.from_dict(sub_div)"
      ],
      "execution_count": null,
      "outputs": []
    },
    {
      "cell_type": "code",
      "metadata": {
        "colab": {
          "base_uri": "https://localhost:8080/",
          "height": 1000
        },
        "id": "jO9ZYB20SBHc",
        "outputId": "0c2b5cf9-513b-43eb-973f-f27ff2c84d9b"
      },
      "source": [
        "sub_div"
      ],
      "execution_count": null,
      "outputs": [
        {
          "output_type": "execute_result",
          "data": {
            "text/html": [
              "<div>\n",
              "<style scoped>\n",
              "    .dataframe tbody tr th:only-of-type {\n",
              "        vertical-align: middle;\n",
              "    }\n",
              "\n",
              "    .dataframe tbody tr th {\n",
              "        vertical-align: top;\n",
              "    }\n",
              "\n",
              "    .dataframe thead th {\n",
              "        text-align: right;\n",
              "    }\n",
              "</style>\n",
              "<table border=\"1\" class=\"dataframe\">\n",
              "  <thead>\n",
              "    <tr style=\"text-align: right;\">\n",
              "      <th></th>\n",
              "      <th>SUBDIVISION</th>\n",
              "      <th>Value</th>\n",
              "    </tr>\n",
              "  </thead>\n",
              "  <tbody>\n",
              "    <tr>\n",
              "      <th>0</th>\n",
              "      <td>Andaman &amp; Nicobar Islands</td>\n",
              "      <td>1</td>\n",
              "    </tr>\n",
              "    <tr>\n",
              "      <th>1</th>\n",
              "      <td>Arunachal Pradesh</td>\n",
              "      <td>2</td>\n",
              "    </tr>\n",
              "    <tr>\n",
              "      <th>2</th>\n",
              "      <td>Assam &amp; Meghalaya</td>\n",
              "      <td>3</td>\n",
              "    </tr>\n",
              "    <tr>\n",
              "      <th>3</th>\n",
              "      <td>Naga Mani Mizo Tripura</td>\n",
              "      <td>4</td>\n",
              "    </tr>\n",
              "    <tr>\n",
              "      <th>4</th>\n",
              "      <td>Sub Himalayan West Bengal &amp; Sikkim</td>\n",
              "      <td>5</td>\n",
              "    </tr>\n",
              "    <tr>\n",
              "      <th>5</th>\n",
              "      <td>Gangetic West Bengal</td>\n",
              "      <td>6</td>\n",
              "    </tr>\n",
              "    <tr>\n",
              "      <th>6</th>\n",
              "      <td>Orissa</td>\n",
              "      <td>7</td>\n",
              "    </tr>\n",
              "    <tr>\n",
              "      <th>7</th>\n",
              "      <td>Jharkhand</td>\n",
              "      <td>8</td>\n",
              "    </tr>\n",
              "    <tr>\n",
              "      <th>8</th>\n",
              "      <td>Bihar</td>\n",
              "      <td>9</td>\n",
              "    </tr>\n",
              "    <tr>\n",
              "      <th>9</th>\n",
              "      <td>East Uttar Pradesh</td>\n",
              "      <td>10</td>\n",
              "    </tr>\n",
              "    <tr>\n",
              "      <th>10</th>\n",
              "      <td>West Uttar Pradesh</td>\n",
              "      <td>11</td>\n",
              "    </tr>\n",
              "    <tr>\n",
              "      <th>11</th>\n",
              "      <td>Uttarakhand</td>\n",
              "      <td>12</td>\n",
              "    </tr>\n",
              "    <tr>\n",
              "      <th>12</th>\n",
              "      <td>Haryana Delhi &amp; Chandigarh</td>\n",
              "      <td>13</td>\n",
              "    </tr>\n",
              "    <tr>\n",
              "      <th>13</th>\n",
              "      <td>Punjab</td>\n",
              "      <td>14</td>\n",
              "    </tr>\n",
              "    <tr>\n",
              "      <th>14</th>\n",
              "      <td>Himachal Pradesh</td>\n",
              "      <td>15</td>\n",
              "    </tr>\n",
              "    <tr>\n",
              "      <th>15</th>\n",
              "      <td>Jammu &amp; Kashmir</td>\n",
              "      <td>16</td>\n",
              "    </tr>\n",
              "    <tr>\n",
              "      <th>16</th>\n",
              "      <td>West Rajasthan</td>\n",
              "      <td>17</td>\n",
              "    </tr>\n",
              "    <tr>\n",
              "      <th>17</th>\n",
              "      <td>East Rajasthan</td>\n",
              "      <td>18</td>\n",
              "    </tr>\n",
              "    <tr>\n",
              "      <th>18</th>\n",
              "      <td>West Madhya Pradesh</td>\n",
              "      <td>19</td>\n",
              "    </tr>\n",
              "    <tr>\n",
              "      <th>19</th>\n",
              "      <td>East Madhya Pradesh</td>\n",
              "      <td>20</td>\n",
              "    </tr>\n",
              "    <tr>\n",
              "      <th>20</th>\n",
              "      <td>Gujarat Region</td>\n",
              "      <td>21</td>\n",
              "    </tr>\n",
              "    <tr>\n",
              "      <th>21</th>\n",
              "      <td>Saurashtra &amp; Kutch</td>\n",
              "      <td>22</td>\n",
              "    </tr>\n",
              "    <tr>\n",
              "      <th>22</th>\n",
              "      <td>Konkan &amp; Goa</td>\n",
              "      <td>23</td>\n",
              "    </tr>\n",
              "    <tr>\n",
              "      <th>23</th>\n",
              "      <td>Madhya Maharashtra</td>\n",
              "      <td>24</td>\n",
              "    </tr>\n",
              "    <tr>\n",
              "      <th>24</th>\n",
              "      <td>Matathwada</td>\n",
              "      <td>25</td>\n",
              "    </tr>\n",
              "    <tr>\n",
              "      <th>25</th>\n",
              "      <td>Vidarbha</td>\n",
              "      <td>26</td>\n",
              "    </tr>\n",
              "    <tr>\n",
              "      <th>26</th>\n",
              "      <td>Chhattisgarh</td>\n",
              "      <td>27</td>\n",
              "    </tr>\n",
              "    <tr>\n",
              "      <th>27</th>\n",
              "      <td>Coastal Andhra Pradesh</td>\n",
              "      <td>28</td>\n",
              "    </tr>\n",
              "    <tr>\n",
              "      <th>28</th>\n",
              "      <td>Telangana</td>\n",
              "      <td>29</td>\n",
              "    </tr>\n",
              "    <tr>\n",
              "      <th>29</th>\n",
              "      <td>Rayalseema</td>\n",
              "      <td>30</td>\n",
              "    </tr>\n",
              "    <tr>\n",
              "      <th>30</th>\n",
              "      <td>Tamil Nadu</td>\n",
              "      <td>31</td>\n",
              "    </tr>\n",
              "    <tr>\n",
              "      <th>31</th>\n",
              "      <td>Coastal Karnataka</td>\n",
              "      <td>32</td>\n",
              "    </tr>\n",
              "    <tr>\n",
              "      <th>32</th>\n",
              "      <td>North Interior Karnataka</td>\n",
              "      <td>33</td>\n",
              "    </tr>\n",
              "    <tr>\n",
              "      <th>33</th>\n",
              "      <td>South Interior Karnataka</td>\n",
              "      <td>34</td>\n",
              "    </tr>\n",
              "    <tr>\n",
              "      <th>34</th>\n",
              "      <td>Kerala</td>\n",
              "      <td>35</td>\n",
              "    </tr>\n",
              "    <tr>\n",
              "      <th>35</th>\n",
              "      <td>Lakshadweep</td>\n",
              "      <td>36</td>\n",
              "    </tr>\n",
              "  </tbody>\n",
              "</table>\n",
              "</div>"
            ],
            "text/plain": [
              "                           SUBDIVISION  Value\n",
              "0            Andaman & Nicobar Islands      1\n",
              "1                    Arunachal Pradesh      2\n",
              "2                    Assam & Meghalaya      3\n",
              "3               Naga Mani Mizo Tripura      4\n",
              "4   Sub Himalayan West Bengal & Sikkim      5\n",
              "5                 Gangetic West Bengal      6\n",
              "6                               Orissa      7\n",
              "7                            Jharkhand      8\n",
              "8                                Bihar      9\n",
              "9                   East Uttar Pradesh     10\n",
              "10                  West Uttar Pradesh     11\n",
              "11                         Uttarakhand     12\n",
              "12          Haryana Delhi & Chandigarh     13\n",
              "13                              Punjab     14\n",
              "14                    Himachal Pradesh     15\n",
              "15                     Jammu & Kashmir     16\n",
              "16                      West Rajasthan     17\n",
              "17                      East Rajasthan     18\n",
              "18                 West Madhya Pradesh     19\n",
              "19                 East Madhya Pradesh     20\n",
              "20                      Gujarat Region     21\n",
              "21                  Saurashtra & Kutch     22\n",
              "22                        Konkan & Goa     23\n",
              "23                  Madhya Maharashtra     24\n",
              "24                          Matathwada     25\n",
              "25                            Vidarbha     26\n",
              "26                        Chhattisgarh     27\n",
              "27              Coastal Andhra Pradesh     28\n",
              "28                           Telangana     29\n",
              "29                          Rayalseema     30\n",
              "30                          Tamil Nadu     31\n",
              "31                   Coastal Karnataka     32\n",
              "32            North Interior Karnataka     33\n",
              "33            South Interior Karnataka     34\n",
              "34                              Kerala     35\n",
              "35                         Lakshadweep     36"
            ]
          },
          "metadata": {},
          "execution_count": 12
        }
      ]
    },
    {
      "cell_type": "code",
      "metadata": {
        "id": "qStCubMoPVir"
      },
      "source": [
        "# mapping subdivisions with their corressponding values for imputing missing values\n",
        "i = 1\n",
        "for x in df['SUBDIVISION'].unique():\n",
        "  df['SUBDIVISION'].replace(to_replace = x, value = i, inplace = True)\n",
        "  i += 1"
      ],
      "execution_count": null,
      "outputs": []
    },
    {
      "cell_type": "code",
      "metadata": {
        "scrolled": true,
        "id": "n2fHvRZvj7FY",
        "colab": {
          "base_uri": "https://localhost:8080/",
          "height": 206
        },
        "outputId": "a10f0af0-58ed-469e-cc2b-8d8beee88802"
      },
      "source": [
        "df.head()"
      ],
      "execution_count": null,
      "outputs": [
        {
          "output_type": "execute_result",
          "data": {
            "text/html": [
              "<div>\n",
              "<style scoped>\n",
              "    .dataframe tbody tr th:only-of-type {\n",
              "        vertical-align: middle;\n",
              "    }\n",
              "\n",
              "    .dataframe tbody tr th {\n",
              "        vertical-align: top;\n",
              "    }\n",
              "\n",
              "    .dataframe thead th {\n",
              "        text-align: right;\n",
              "    }\n",
              "</style>\n",
              "<table border=\"1\" class=\"dataframe\">\n",
              "  <thead>\n",
              "    <tr style=\"text-align: right;\">\n",
              "      <th></th>\n",
              "      <th>SUBDIVISION</th>\n",
              "      <th>YEAR</th>\n",
              "      <th>JAN</th>\n",
              "      <th>FEB</th>\n",
              "      <th>MAR</th>\n",
              "      <th>APR</th>\n",
              "      <th>MAY</th>\n",
              "      <th>JUN</th>\n",
              "      <th>JUL</th>\n",
              "      <th>AUG</th>\n",
              "      <th>SEP</th>\n",
              "      <th>OCT</th>\n",
              "      <th>NOV</th>\n",
              "      <th>DEC</th>\n",
              "      <th>ANNUAL</th>\n",
              "    </tr>\n",
              "  </thead>\n",
              "  <tbody>\n",
              "    <tr>\n",
              "      <th>0</th>\n",
              "      <td>1</td>\n",
              "      <td>1901</td>\n",
              "      <td>49.2</td>\n",
              "      <td>87.1</td>\n",
              "      <td>29.2</td>\n",
              "      <td>2.3</td>\n",
              "      <td>528.8</td>\n",
              "      <td>517.5</td>\n",
              "      <td>365.1</td>\n",
              "      <td>481.1</td>\n",
              "      <td>332.6</td>\n",
              "      <td>388.5</td>\n",
              "      <td>558.2</td>\n",
              "      <td>33.6</td>\n",
              "      <td>3373.2</td>\n",
              "    </tr>\n",
              "    <tr>\n",
              "      <th>1</th>\n",
              "      <td>1</td>\n",
              "      <td>1902</td>\n",
              "      <td>0.0</td>\n",
              "      <td>159.8</td>\n",
              "      <td>12.2</td>\n",
              "      <td>0.0</td>\n",
              "      <td>446.1</td>\n",
              "      <td>537.1</td>\n",
              "      <td>228.9</td>\n",
              "      <td>753.7</td>\n",
              "      <td>666.2</td>\n",
              "      <td>197.2</td>\n",
              "      <td>359.0</td>\n",
              "      <td>160.5</td>\n",
              "      <td>3520.7</td>\n",
              "    </tr>\n",
              "    <tr>\n",
              "      <th>2</th>\n",
              "      <td>1</td>\n",
              "      <td>1903</td>\n",
              "      <td>12.7</td>\n",
              "      <td>144.0</td>\n",
              "      <td>0.0</td>\n",
              "      <td>1.0</td>\n",
              "      <td>235.1</td>\n",
              "      <td>479.9</td>\n",
              "      <td>728.4</td>\n",
              "      <td>326.7</td>\n",
              "      <td>339.0</td>\n",
              "      <td>181.2</td>\n",
              "      <td>284.4</td>\n",
              "      <td>225.0</td>\n",
              "      <td>2957.4</td>\n",
              "    </tr>\n",
              "    <tr>\n",
              "      <th>3</th>\n",
              "      <td>1</td>\n",
              "      <td>1904</td>\n",
              "      <td>9.4</td>\n",
              "      <td>14.7</td>\n",
              "      <td>0.0</td>\n",
              "      <td>202.4</td>\n",
              "      <td>304.5</td>\n",
              "      <td>495.1</td>\n",
              "      <td>502.0</td>\n",
              "      <td>160.1</td>\n",
              "      <td>820.4</td>\n",
              "      <td>222.2</td>\n",
              "      <td>308.7</td>\n",
              "      <td>40.1</td>\n",
              "      <td>3079.6</td>\n",
              "    </tr>\n",
              "    <tr>\n",
              "      <th>4</th>\n",
              "      <td>1</td>\n",
              "      <td>1905</td>\n",
              "      <td>1.3</td>\n",
              "      <td>0.0</td>\n",
              "      <td>3.3</td>\n",
              "      <td>26.9</td>\n",
              "      <td>279.5</td>\n",
              "      <td>628.7</td>\n",
              "      <td>368.7</td>\n",
              "      <td>330.5</td>\n",
              "      <td>297.0</td>\n",
              "      <td>260.7</td>\n",
              "      <td>25.4</td>\n",
              "      <td>344.7</td>\n",
              "      <td>2566.7</td>\n",
              "    </tr>\n",
              "  </tbody>\n",
              "</table>\n",
              "</div>"
            ],
            "text/plain": [
              "   SUBDIVISION  YEAR   JAN    FEB   MAR  ...    SEP    OCT    NOV    DEC  ANNUAL\n",
              "0            1  1901  49.2   87.1  29.2  ...  332.6  388.5  558.2   33.6  3373.2\n",
              "1            1  1902   0.0  159.8  12.2  ...  666.2  197.2  359.0  160.5  3520.7\n",
              "2            1  1903  12.7  144.0   0.0  ...  339.0  181.2  284.4  225.0  2957.4\n",
              "3            1  1904   9.4   14.7   0.0  ...  820.4  222.2  308.7   40.1  3079.6\n",
              "4            1  1905   1.3    0.0   3.3  ...  297.0  260.7   25.4  344.7  2566.7\n",
              "\n",
              "[5 rows x 15 columns]"
            ]
          },
          "metadata": {},
          "execution_count": 14
        }
      ]
    },
    {
      "cell_type": "code",
      "metadata": {
        "id": "MrBgMp6Tj7FZ"
      },
      "source": [
        "# getting column names from dataset\n",
        "cols = df.columns"
      ],
      "execution_count": null,
      "outputs": []
    },
    {
      "cell_type": "code",
      "metadata": {
        "id": "tpypdqt6j7Fa"
      },
      "source": [
        "# imputing missing values using knn imputer\n",
        "from sklearn.impute import KNNImputer\n",
        "imputer = KNNImputer(n_neighbors=5)\n",
        "df = imputer.fit_transform(df)\n",
        "df = pd.DataFrame(df, columns = cols)"
      ],
      "execution_count": null,
      "outputs": []
    },
    {
      "cell_type": "code",
      "metadata": {
        "id": "4EdIj1mxj7Fc",
        "colab": {
          "base_uri": "https://localhost:8080/"
        },
        "outputId": "82d5b56f-cb9f-451f-9cbf-3e7452bad2b9"
      },
      "source": [
        "# now we have zero missing values in every column\n",
        "df.isna().sum()"
      ],
      "execution_count": null,
      "outputs": [
        {
          "output_type": "execute_result",
          "data": {
            "text/plain": [
              "SUBDIVISION    0\n",
              "YEAR           0\n",
              "JAN            0\n",
              "FEB            0\n",
              "MAR            0\n",
              "APR            0\n",
              "MAY            0\n",
              "JUN            0\n",
              "JUL            0\n",
              "AUG            0\n",
              "SEP            0\n",
              "OCT            0\n",
              "NOV            0\n",
              "DEC            0\n",
              "ANNUAL         0\n",
              "dtype: int64"
            ]
          },
          "metadata": {},
          "execution_count": 17
        }
      ]
    },
    {
      "cell_type": "code",
      "metadata": {
        "id": "OJKFyf59j7Fg"
      },
      "source": [
        "# remapping subdivision values to their corressponding names\n",
        "i = 0\n",
        "for x in df['SUBDIVISION'].unique():\n",
        "  df['SUBDIVISION'].replace(to_replace = x, value = sub_div.iloc[i, 0], inplace = True)\n",
        "  i += 1"
      ],
      "execution_count": null,
      "outputs": []
    },
    {
      "cell_type": "code",
      "metadata": {
        "colab": {
          "base_uri": "https://localhost:8080/",
          "height": 206
        },
        "id": "cC_0c9zJTfUy",
        "outputId": "f153089a-499b-4e97-fcc4-f70605f78433"
      },
      "source": [
        "df.head()"
      ],
      "execution_count": null,
      "outputs": [
        {
          "output_type": "execute_result",
          "data": {
            "text/html": [
              "<div>\n",
              "<style scoped>\n",
              "    .dataframe tbody tr th:only-of-type {\n",
              "        vertical-align: middle;\n",
              "    }\n",
              "\n",
              "    .dataframe tbody tr th {\n",
              "        vertical-align: top;\n",
              "    }\n",
              "\n",
              "    .dataframe thead th {\n",
              "        text-align: right;\n",
              "    }\n",
              "</style>\n",
              "<table border=\"1\" class=\"dataframe\">\n",
              "  <thead>\n",
              "    <tr style=\"text-align: right;\">\n",
              "      <th></th>\n",
              "      <th>SUBDIVISION</th>\n",
              "      <th>YEAR</th>\n",
              "      <th>JAN</th>\n",
              "      <th>FEB</th>\n",
              "      <th>MAR</th>\n",
              "      <th>APR</th>\n",
              "      <th>MAY</th>\n",
              "      <th>JUN</th>\n",
              "      <th>JUL</th>\n",
              "      <th>AUG</th>\n",
              "      <th>SEP</th>\n",
              "      <th>OCT</th>\n",
              "      <th>NOV</th>\n",
              "      <th>DEC</th>\n",
              "      <th>ANNUAL</th>\n",
              "    </tr>\n",
              "  </thead>\n",
              "  <tbody>\n",
              "    <tr>\n",
              "      <th>0</th>\n",
              "      <td>Andaman &amp; Nicobar Islands</td>\n",
              "      <td>1901.0</td>\n",
              "      <td>49.2</td>\n",
              "      <td>87.1</td>\n",
              "      <td>29.2</td>\n",
              "      <td>2.3</td>\n",
              "      <td>528.8</td>\n",
              "      <td>517.5</td>\n",
              "      <td>365.1</td>\n",
              "      <td>481.1</td>\n",
              "      <td>332.6</td>\n",
              "      <td>388.5</td>\n",
              "      <td>558.2</td>\n",
              "      <td>33.6</td>\n",
              "      <td>3373.2</td>\n",
              "    </tr>\n",
              "    <tr>\n",
              "      <th>1</th>\n",
              "      <td>Andaman &amp; Nicobar Islands</td>\n",
              "      <td>1902.0</td>\n",
              "      <td>0.0</td>\n",
              "      <td>159.8</td>\n",
              "      <td>12.2</td>\n",
              "      <td>0.0</td>\n",
              "      <td>446.1</td>\n",
              "      <td>537.1</td>\n",
              "      <td>228.9</td>\n",
              "      <td>753.7</td>\n",
              "      <td>666.2</td>\n",
              "      <td>197.2</td>\n",
              "      <td>359.0</td>\n",
              "      <td>160.5</td>\n",
              "      <td>3520.7</td>\n",
              "    </tr>\n",
              "    <tr>\n",
              "      <th>2</th>\n",
              "      <td>Andaman &amp; Nicobar Islands</td>\n",
              "      <td>1903.0</td>\n",
              "      <td>12.7</td>\n",
              "      <td>144.0</td>\n",
              "      <td>0.0</td>\n",
              "      <td>1.0</td>\n",
              "      <td>235.1</td>\n",
              "      <td>479.9</td>\n",
              "      <td>728.4</td>\n",
              "      <td>326.7</td>\n",
              "      <td>339.0</td>\n",
              "      <td>181.2</td>\n",
              "      <td>284.4</td>\n",
              "      <td>225.0</td>\n",
              "      <td>2957.4</td>\n",
              "    </tr>\n",
              "    <tr>\n",
              "      <th>3</th>\n",
              "      <td>Andaman &amp; Nicobar Islands</td>\n",
              "      <td>1904.0</td>\n",
              "      <td>9.4</td>\n",
              "      <td>14.7</td>\n",
              "      <td>0.0</td>\n",
              "      <td>202.4</td>\n",
              "      <td>304.5</td>\n",
              "      <td>495.1</td>\n",
              "      <td>502.0</td>\n",
              "      <td>160.1</td>\n",
              "      <td>820.4</td>\n",
              "      <td>222.2</td>\n",
              "      <td>308.7</td>\n",
              "      <td>40.1</td>\n",
              "      <td>3079.6</td>\n",
              "    </tr>\n",
              "    <tr>\n",
              "      <th>4</th>\n",
              "      <td>Andaman &amp; Nicobar Islands</td>\n",
              "      <td>1905.0</td>\n",
              "      <td>1.3</td>\n",
              "      <td>0.0</td>\n",
              "      <td>3.3</td>\n",
              "      <td>26.9</td>\n",
              "      <td>279.5</td>\n",
              "      <td>628.7</td>\n",
              "      <td>368.7</td>\n",
              "      <td>330.5</td>\n",
              "      <td>297.0</td>\n",
              "      <td>260.7</td>\n",
              "      <td>25.4</td>\n",
              "      <td>344.7</td>\n",
              "      <td>2566.7</td>\n",
              "    </tr>\n",
              "  </tbody>\n",
              "</table>\n",
              "</div>"
            ],
            "text/plain": [
              "                 SUBDIVISION    YEAR   JAN    FEB  ...    OCT    NOV    DEC  ANNUAL\n",
              "0  Andaman & Nicobar Islands  1901.0  49.2   87.1  ...  388.5  558.2   33.6  3373.2\n",
              "1  Andaman & Nicobar Islands  1902.0   0.0  159.8  ...  197.2  359.0  160.5  3520.7\n",
              "2  Andaman & Nicobar Islands  1903.0  12.7  144.0  ...  181.2  284.4  225.0  2957.4\n",
              "3  Andaman & Nicobar Islands  1904.0   9.4   14.7  ...  222.2  308.7   40.1  3079.6\n",
              "4  Andaman & Nicobar Islands  1905.0   1.3    0.0  ...  260.7   25.4  344.7  2566.7\n",
              "\n",
              "[5 rows x 15 columns]"
            ]
          },
          "metadata": {},
          "execution_count": 19
        }
      ]
    },
    {
      "cell_type": "code",
      "metadata": {
        "id": "ixD4V-bvThzn"
      },
      "source": [
        "# changing data type of year column to int as it was changed to float while processing\n",
        "df = df.astype({\"YEAR\":'int'})"
      ],
      "execution_count": null,
      "outputs": []
    },
    {
      "cell_type": "code",
      "metadata": {
        "colab": {
          "base_uri": "https://localhost:8080/",
          "height": 206
        },
        "id": "iZVj-26sUKuC",
        "outputId": "c03318e1-61d8-4508-870e-d368da787159"
      },
      "source": [
        "df.head()"
      ],
      "execution_count": null,
      "outputs": [
        {
          "output_type": "execute_result",
          "data": {
            "text/html": [
              "<div>\n",
              "<style scoped>\n",
              "    .dataframe tbody tr th:only-of-type {\n",
              "        vertical-align: middle;\n",
              "    }\n",
              "\n",
              "    .dataframe tbody tr th {\n",
              "        vertical-align: top;\n",
              "    }\n",
              "\n",
              "    .dataframe thead th {\n",
              "        text-align: right;\n",
              "    }\n",
              "</style>\n",
              "<table border=\"1\" class=\"dataframe\">\n",
              "  <thead>\n",
              "    <tr style=\"text-align: right;\">\n",
              "      <th></th>\n",
              "      <th>SUBDIVISION</th>\n",
              "      <th>YEAR</th>\n",
              "      <th>JAN</th>\n",
              "      <th>FEB</th>\n",
              "      <th>MAR</th>\n",
              "      <th>APR</th>\n",
              "      <th>MAY</th>\n",
              "      <th>JUN</th>\n",
              "      <th>JUL</th>\n",
              "      <th>AUG</th>\n",
              "      <th>SEP</th>\n",
              "      <th>OCT</th>\n",
              "      <th>NOV</th>\n",
              "      <th>DEC</th>\n",
              "      <th>ANNUAL</th>\n",
              "    </tr>\n",
              "  </thead>\n",
              "  <tbody>\n",
              "    <tr>\n",
              "      <th>0</th>\n",
              "      <td>Andaman &amp; Nicobar Islands</td>\n",
              "      <td>1901</td>\n",
              "      <td>49.2</td>\n",
              "      <td>87.1</td>\n",
              "      <td>29.2</td>\n",
              "      <td>2.3</td>\n",
              "      <td>528.8</td>\n",
              "      <td>517.5</td>\n",
              "      <td>365.1</td>\n",
              "      <td>481.1</td>\n",
              "      <td>332.6</td>\n",
              "      <td>388.5</td>\n",
              "      <td>558.2</td>\n",
              "      <td>33.6</td>\n",
              "      <td>3373.2</td>\n",
              "    </tr>\n",
              "    <tr>\n",
              "      <th>1</th>\n",
              "      <td>Andaman &amp; Nicobar Islands</td>\n",
              "      <td>1902</td>\n",
              "      <td>0.0</td>\n",
              "      <td>159.8</td>\n",
              "      <td>12.2</td>\n",
              "      <td>0.0</td>\n",
              "      <td>446.1</td>\n",
              "      <td>537.1</td>\n",
              "      <td>228.9</td>\n",
              "      <td>753.7</td>\n",
              "      <td>666.2</td>\n",
              "      <td>197.2</td>\n",
              "      <td>359.0</td>\n",
              "      <td>160.5</td>\n",
              "      <td>3520.7</td>\n",
              "    </tr>\n",
              "    <tr>\n",
              "      <th>2</th>\n",
              "      <td>Andaman &amp; Nicobar Islands</td>\n",
              "      <td>1903</td>\n",
              "      <td>12.7</td>\n",
              "      <td>144.0</td>\n",
              "      <td>0.0</td>\n",
              "      <td>1.0</td>\n",
              "      <td>235.1</td>\n",
              "      <td>479.9</td>\n",
              "      <td>728.4</td>\n",
              "      <td>326.7</td>\n",
              "      <td>339.0</td>\n",
              "      <td>181.2</td>\n",
              "      <td>284.4</td>\n",
              "      <td>225.0</td>\n",
              "      <td>2957.4</td>\n",
              "    </tr>\n",
              "    <tr>\n",
              "      <th>3</th>\n",
              "      <td>Andaman &amp; Nicobar Islands</td>\n",
              "      <td>1904</td>\n",
              "      <td>9.4</td>\n",
              "      <td>14.7</td>\n",
              "      <td>0.0</td>\n",
              "      <td>202.4</td>\n",
              "      <td>304.5</td>\n",
              "      <td>495.1</td>\n",
              "      <td>502.0</td>\n",
              "      <td>160.1</td>\n",
              "      <td>820.4</td>\n",
              "      <td>222.2</td>\n",
              "      <td>308.7</td>\n",
              "      <td>40.1</td>\n",
              "      <td>3079.6</td>\n",
              "    </tr>\n",
              "    <tr>\n",
              "      <th>4</th>\n",
              "      <td>Andaman &amp; Nicobar Islands</td>\n",
              "      <td>1905</td>\n",
              "      <td>1.3</td>\n",
              "      <td>0.0</td>\n",
              "      <td>3.3</td>\n",
              "      <td>26.9</td>\n",
              "      <td>279.5</td>\n",
              "      <td>628.7</td>\n",
              "      <td>368.7</td>\n",
              "      <td>330.5</td>\n",
              "      <td>297.0</td>\n",
              "      <td>260.7</td>\n",
              "      <td>25.4</td>\n",
              "      <td>344.7</td>\n",
              "      <td>2566.7</td>\n",
              "    </tr>\n",
              "  </tbody>\n",
              "</table>\n",
              "</div>"
            ],
            "text/plain": [
              "                 SUBDIVISION  YEAR   JAN    FEB  ...    OCT    NOV    DEC  ANNUAL\n",
              "0  Andaman & Nicobar Islands  1901  49.2   87.1  ...  388.5  558.2   33.6  3373.2\n",
              "1  Andaman & Nicobar Islands  1902   0.0  159.8  ...  197.2  359.0  160.5  3520.7\n",
              "2  Andaman & Nicobar Islands  1903  12.7  144.0  ...  181.2  284.4  225.0  2957.4\n",
              "3  Andaman & Nicobar Islands  1904   9.4   14.7  ...  222.2  308.7   40.1  3079.6\n",
              "4  Andaman & Nicobar Islands  1905   1.3    0.0  ...  260.7   25.4  344.7  2566.7\n",
              "\n",
              "[5 rows x 15 columns]"
            ]
          },
          "metadata": {},
          "execution_count": 21
        }
      ]
    },
    {
      "cell_type": "markdown",
      "metadata": {
        "id": "L99AyTxJTvfa"
      },
      "source": [
        "**Initially working on Kerala SUBDIVISION**"
      ]
    },
    {
      "cell_type": "code",
      "metadata": {
        "id": "1VYsYX7lUPKs"
      },
      "source": [
        "# creating dataset for kerala from above dataset\n",
        "Kerala = {'Month': [],\n",
        "          'Rainfall':[]\n",
        "          }"
      ],
      "execution_count": null,
      "outputs": []
    },
    {
      "cell_type": "code",
      "metadata": {
        "colab": {
          "base_uri": "https://localhost:8080/",
          "height": 206
        },
        "id": "z7L0bG0EVoli",
        "outputId": "dd47cad2-64e7-4de0-8122-295cedd300d7"
      },
      "source": [
        "# taking only those instances where the subdivision is kerala\n",
        "df_kerala = df[df.SUBDIVISION == 'Kerala'].copy()\n",
        "df_kerala.reset_index(inplace=True)\n",
        "df_kerala.drop(['index'], axis=1, inplace = True)\n",
        "df_kerala.head()"
      ],
      "execution_count": null,
      "outputs": [
        {
          "output_type": "execute_result",
          "data": {
            "text/html": [
              "<div>\n",
              "<style scoped>\n",
              "    .dataframe tbody tr th:only-of-type {\n",
              "        vertical-align: middle;\n",
              "    }\n",
              "\n",
              "    .dataframe tbody tr th {\n",
              "        vertical-align: top;\n",
              "    }\n",
              "\n",
              "    .dataframe thead th {\n",
              "        text-align: right;\n",
              "    }\n",
              "</style>\n",
              "<table border=\"1\" class=\"dataframe\">\n",
              "  <thead>\n",
              "    <tr style=\"text-align: right;\">\n",
              "      <th></th>\n",
              "      <th>SUBDIVISION</th>\n",
              "      <th>YEAR</th>\n",
              "      <th>JAN</th>\n",
              "      <th>FEB</th>\n",
              "      <th>MAR</th>\n",
              "      <th>APR</th>\n",
              "      <th>MAY</th>\n",
              "      <th>JUN</th>\n",
              "      <th>JUL</th>\n",
              "      <th>AUG</th>\n",
              "      <th>SEP</th>\n",
              "      <th>OCT</th>\n",
              "      <th>NOV</th>\n",
              "      <th>DEC</th>\n",
              "      <th>ANNUAL</th>\n",
              "    </tr>\n",
              "  </thead>\n",
              "  <tbody>\n",
              "    <tr>\n",
              "      <th>0</th>\n",
              "      <td>Kerala</td>\n",
              "      <td>1901</td>\n",
              "      <td>28.7</td>\n",
              "      <td>44.7</td>\n",
              "      <td>51.6</td>\n",
              "      <td>160.0</td>\n",
              "      <td>174.7</td>\n",
              "      <td>824.6</td>\n",
              "      <td>743.0</td>\n",
              "      <td>357.5</td>\n",
              "      <td>197.7</td>\n",
              "      <td>266.9</td>\n",
              "      <td>350.8</td>\n",
              "      <td>48.4</td>\n",
              "      <td>3248.6</td>\n",
              "    </tr>\n",
              "    <tr>\n",
              "      <th>1</th>\n",
              "      <td>Kerala</td>\n",
              "      <td>1902</td>\n",
              "      <td>6.7</td>\n",
              "      <td>2.6</td>\n",
              "      <td>57.3</td>\n",
              "      <td>83.9</td>\n",
              "      <td>134.5</td>\n",
              "      <td>390.9</td>\n",
              "      <td>1205.0</td>\n",
              "      <td>315.8</td>\n",
              "      <td>491.6</td>\n",
              "      <td>358.4</td>\n",
              "      <td>158.3</td>\n",
              "      <td>121.5</td>\n",
              "      <td>3326.6</td>\n",
              "    </tr>\n",
              "    <tr>\n",
              "      <th>2</th>\n",
              "      <td>Kerala</td>\n",
              "      <td>1903</td>\n",
              "      <td>3.2</td>\n",
              "      <td>18.6</td>\n",
              "      <td>3.1</td>\n",
              "      <td>83.6</td>\n",
              "      <td>249.7</td>\n",
              "      <td>558.6</td>\n",
              "      <td>1022.5</td>\n",
              "      <td>420.2</td>\n",
              "      <td>341.8</td>\n",
              "      <td>354.1</td>\n",
              "      <td>157.0</td>\n",
              "      <td>59.0</td>\n",
              "      <td>3271.2</td>\n",
              "    </tr>\n",
              "    <tr>\n",
              "      <th>3</th>\n",
              "      <td>Kerala</td>\n",
              "      <td>1904</td>\n",
              "      <td>23.7</td>\n",
              "      <td>3.0</td>\n",
              "      <td>32.2</td>\n",
              "      <td>71.5</td>\n",
              "      <td>235.7</td>\n",
              "      <td>1098.2</td>\n",
              "      <td>725.5</td>\n",
              "      <td>351.8</td>\n",
              "      <td>222.7</td>\n",
              "      <td>328.1</td>\n",
              "      <td>33.9</td>\n",
              "      <td>3.3</td>\n",
              "      <td>3129.7</td>\n",
              "    </tr>\n",
              "    <tr>\n",
              "      <th>4</th>\n",
              "      <td>Kerala</td>\n",
              "      <td>1905</td>\n",
              "      <td>1.2</td>\n",
              "      <td>22.3</td>\n",
              "      <td>9.4</td>\n",
              "      <td>105.9</td>\n",
              "      <td>263.3</td>\n",
              "      <td>850.2</td>\n",
              "      <td>520.5</td>\n",
              "      <td>293.6</td>\n",
              "      <td>217.2</td>\n",
              "      <td>383.5</td>\n",
              "      <td>74.4</td>\n",
              "      <td>0.2</td>\n",
              "      <td>2741.6</td>\n",
              "    </tr>\n",
              "  </tbody>\n",
              "</table>\n",
              "</div>"
            ],
            "text/plain": [
              "  SUBDIVISION  YEAR   JAN   FEB   MAR  ...    SEP    OCT    NOV    DEC  ANNUAL\n",
              "0      Kerala  1901  28.7  44.7  51.6  ...  197.7  266.9  350.8   48.4  3248.6\n",
              "1      Kerala  1902   6.7   2.6  57.3  ...  491.6  358.4  158.3  121.5  3326.6\n",
              "2      Kerala  1903   3.2  18.6   3.1  ...  341.8  354.1  157.0   59.0  3271.2\n",
              "3      Kerala  1904  23.7   3.0  32.2  ...  222.7  328.1   33.9    3.3  3129.7\n",
              "4      Kerala  1905   1.2  22.3   9.4  ...  217.2  383.5   74.4    0.2  2741.6\n",
              "\n",
              "[5 rows x 15 columns]"
            ]
          },
          "metadata": {},
          "execution_count": 23
        }
      ]
    },
    {
      "cell_type": "code",
      "metadata": {
        "colab": {
          "base_uri": "https://localhost:8080/"
        },
        "id": "N7NH22iIWw-1",
        "outputId": "8fea868e-3797-4b25-d692-e1657c10d729"
      },
      "source": [
        "# checking shape of obtained \n",
        "df_kerala.shape"
      ],
      "execution_count": null,
      "outputs": [
        {
          "output_type": "execute_result",
          "data": {
            "text/plain": [
              "(117, 15)"
            ]
          },
          "metadata": {},
          "execution_count": 24
        }
      ]
    },
    {
      "cell_type": "code",
      "metadata": {
        "id": "hOyg-wCKW-oO"
      },
      "source": [
        "# getting values for kerala dataset \n",
        "\n",
        "# iterating each year\n",
        "for index in range(df_kerala.shape[0]):\n",
        "  # since the original dataset is having months as columns and\n",
        "  # here we are taking date as one variable hence the following code will combine year and month to get data in form of 'YYYY-MM-DD' format\n",
        "  # iterating over month to get month \n",
        "  for i in range(12):\n",
        "    Kerala['Month'].append(f'{df_kerala.iloc[index, 1]}-{i + 1}')    \n",
        "    Kerala['Rainfall'].append(df_kerala.iloc[index, i+2])"
      ],
      "execution_count": null,
      "outputs": []
    },
    {
      "cell_type": "code",
      "metadata": {
        "id": "o1UTJ3R1XCy4"
      },
      "source": [
        "# converting dictionary to pandas DataFrame\n",
        "Kerala = pd.DataFrame.from_dict(Kerala)"
      ],
      "execution_count": null,
      "outputs": []
    },
    {
      "cell_type": "code",
      "metadata": {
        "colab": {
          "base_uri": "https://localhost:8080/",
          "height": 423
        },
        "id": "BF3ehgJKZb1F",
        "outputId": "e31af232-9be8-4c9b-d7d9-692adbf5f961"
      },
      "source": [
        "Kerala"
      ],
      "execution_count": null,
      "outputs": [
        {
          "output_type": "execute_result",
          "data": {
            "text/html": [
              "<div>\n",
              "<style scoped>\n",
              "    .dataframe tbody tr th:only-of-type {\n",
              "        vertical-align: middle;\n",
              "    }\n",
              "\n",
              "    .dataframe tbody tr th {\n",
              "        vertical-align: top;\n",
              "    }\n",
              "\n",
              "    .dataframe thead th {\n",
              "        text-align: right;\n",
              "    }\n",
              "</style>\n",
              "<table border=\"1\" class=\"dataframe\">\n",
              "  <thead>\n",
              "    <tr style=\"text-align: right;\">\n",
              "      <th></th>\n",
              "      <th>Month</th>\n",
              "      <th>Rainfall</th>\n",
              "    </tr>\n",
              "  </thead>\n",
              "  <tbody>\n",
              "    <tr>\n",
              "      <th>0</th>\n",
              "      <td>1901-1</td>\n",
              "      <td>28.7</td>\n",
              "    </tr>\n",
              "    <tr>\n",
              "      <th>1</th>\n",
              "      <td>1901-2</td>\n",
              "      <td>44.7</td>\n",
              "    </tr>\n",
              "    <tr>\n",
              "      <th>2</th>\n",
              "      <td>1901-3</td>\n",
              "      <td>51.6</td>\n",
              "    </tr>\n",
              "    <tr>\n",
              "      <th>3</th>\n",
              "      <td>1901-4</td>\n",
              "      <td>160.0</td>\n",
              "    </tr>\n",
              "    <tr>\n",
              "      <th>4</th>\n",
              "      <td>1901-5</td>\n",
              "      <td>174.7</td>\n",
              "    </tr>\n",
              "    <tr>\n",
              "      <th>...</th>\n",
              "      <td>...</td>\n",
              "      <td>...</td>\n",
              "    </tr>\n",
              "    <tr>\n",
              "      <th>1399</th>\n",
              "      <td>2017-8</td>\n",
              "      <td>462.6</td>\n",
              "    </tr>\n",
              "    <tr>\n",
              "      <th>1400</th>\n",
              "      <td>2017-9</td>\n",
              "      <td>435.5</td>\n",
              "    </tr>\n",
              "    <tr>\n",
              "      <th>1401</th>\n",
              "      <td>2017-10</td>\n",
              "      <td>228.0</td>\n",
              "    </tr>\n",
              "    <tr>\n",
              "      <th>1402</th>\n",
              "      <td>2017-11</td>\n",
              "      <td>152.1</td>\n",
              "    </tr>\n",
              "    <tr>\n",
              "      <th>1403</th>\n",
              "      <td>2017-12</td>\n",
              "      <td>61.4</td>\n",
              "    </tr>\n",
              "  </tbody>\n",
              "</table>\n",
              "<p>1404 rows × 2 columns</p>\n",
              "</div>"
            ],
            "text/plain": [
              "        Month  Rainfall\n",
              "0      1901-1      28.7\n",
              "1      1901-2      44.7\n",
              "2      1901-3      51.6\n",
              "3      1901-4     160.0\n",
              "4      1901-5     174.7\n",
              "...       ...       ...\n",
              "1399   2017-8     462.6\n",
              "1400   2017-9     435.5\n",
              "1401  2017-10     228.0\n",
              "1402  2017-11     152.1\n",
              "1403  2017-12      61.4\n",
              "\n",
              "[1404 rows x 2 columns]"
            ]
          },
          "metadata": {},
          "execution_count": 27
        }
      ]
    },
    {
      "cell_type": "code",
      "metadata": {
        "colab": {
          "base_uri": "https://localhost:8080/"
        },
        "id": "sEKeyZ-zZkV8",
        "outputId": "a2818e7c-86f0-4a47-cbc9-2f718d7e69e1"
      },
      "source": [
        "df_kerala.iloc[116] # confirming with above that values are fetched correctly"
      ],
      "execution_count": null,
      "outputs": [
        {
          "output_type": "execute_result",
          "data": {
            "text/plain": [
              "SUBDIVISION    Kerala\n",
              "YEAR             2017\n",
              "JAN              12.7\n",
              "FEB               0.3\n",
              "MAR              87.8\n",
              "APR              52.8\n",
              "MAY             213.3\n",
              "JUN             579.8\n",
              "JUL             378.5\n",
              "AUG             462.6\n",
              "SEP             435.5\n",
              "OCT               228\n",
              "NOV             152.1\n",
              "DEC              61.4\n",
              "ANNUAL         2664.9\n",
              "Name: 116, dtype: object"
            ]
          },
          "metadata": {},
          "execution_count": 28
        }
      ]
    },
    {
      "cell_type": "code",
      "metadata": {
        "colab": {
          "base_uri": "https://localhost:8080/",
          "height": 423
        },
        "id": "smXUb07QZdNQ",
        "outputId": "ef7fbdee-a533-410e-feaa-4711deda2bca"
      },
      "source": [
        "# converting Date column which is having dtype as string to Date Time format\n",
        "Kerala['Month'] = pd.to_datetime(Kerala['Month'])\n",
        "Kerala\n",
        "# Now we have proper data that can be used for further analysis and modeling"
      ],
      "execution_count": null,
      "outputs": [
        {
          "output_type": "execute_result",
          "data": {
            "text/html": [
              "<div>\n",
              "<style scoped>\n",
              "    .dataframe tbody tr th:only-of-type {\n",
              "        vertical-align: middle;\n",
              "    }\n",
              "\n",
              "    .dataframe tbody tr th {\n",
              "        vertical-align: top;\n",
              "    }\n",
              "\n",
              "    .dataframe thead th {\n",
              "        text-align: right;\n",
              "    }\n",
              "</style>\n",
              "<table border=\"1\" class=\"dataframe\">\n",
              "  <thead>\n",
              "    <tr style=\"text-align: right;\">\n",
              "      <th></th>\n",
              "      <th>Month</th>\n",
              "      <th>Rainfall</th>\n",
              "    </tr>\n",
              "  </thead>\n",
              "  <tbody>\n",
              "    <tr>\n",
              "      <th>0</th>\n",
              "      <td>1901-01-01</td>\n",
              "      <td>28.7</td>\n",
              "    </tr>\n",
              "    <tr>\n",
              "      <th>1</th>\n",
              "      <td>1901-02-01</td>\n",
              "      <td>44.7</td>\n",
              "    </tr>\n",
              "    <tr>\n",
              "      <th>2</th>\n",
              "      <td>1901-03-01</td>\n",
              "      <td>51.6</td>\n",
              "    </tr>\n",
              "    <tr>\n",
              "      <th>3</th>\n",
              "      <td>1901-04-01</td>\n",
              "      <td>160.0</td>\n",
              "    </tr>\n",
              "    <tr>\n",
              "      <th>4</th>\n",
              "      <td>1901-05-01</td>\n",
              "      <td>174.7</td>\n",
              "    </tr>\n",
              "    <tr>\n",
              "      <th>...</th>\n",
              "      <td>...</td>\n",
              "      <td>...</td>\n",
              "    </tr>\n",
              "    <tr>\n",
              "      <th>1399</th>\n",
              "      <td>2017-08-01</td>\n",
              "      <td>462.6</td>\n",
              "    </tr>\n",
              "    <tr>\n",
              "      <th>1400</th>\n",
              "      <td>2017-09-01</td>\n",
              "      <td>435.5</td>\n",
              "    </tr>\n",
              "    <tr>\n",
              "      <th>1401</th>\n",
              "      <td>2017-10-01</td>\n",
              "      <td>228.0</td>\n",
              "    </tr>\n",
              "    <tr>\n",
              "      <th>1402</th>\n",
              "      <td>2017-11-01</td>\n",
              "      <td>152.1</td>\n",
              "    </tr>\n",
              "    <tr>\n",
              "      <th>1403</th>\n",
              "      <td>2017-12-01</td>\n",
              "      <td>61.4</td>\n",
              "    </tr>\n",
              "  </tbody>\n",
              "</table>\n",
              "<p>1404 rows × 2 columns</p>\n",
              "</div>"
            ],
            "text/plain": [
              "          Month  Rainfall\n",
              "0    1901-01-01      28.7\n",
              "1    1901-02-01      44.7\n",
              "2    1901-03-01      51.6\n",
              "3    1901-04-01     160.0\n",
              "4    1901-05-01     174.7\n",
              "...         ...       ...\n",
              "1399 2017-08-01     462.6\n",
              "1400 2017-09-01     435.5\n",
              "1401 2017-10-01     228.0\n",
              "1402 2017-11-01     152.1\n",
              "1403 2017-12-01      61.4\n",
              "\n",
              "[1404 rows x 2 columns]"
            ]
          },
          "metadata": {},
          "execution_count": 29
        }
      ]
    },
    {
      "cell_type": "code",
      "metadata": {
        "colab": {
          "base_uri": "https://localhost:8080/",
          "height": 238
        },
        "id": "XSr4EmNEtWZS",
        "outputId": "fa1de162-1aed-4230-a67e-26eb8a5e07f3"
      },
      "source": [
        "Kerala.set_index('Month', inplace=True)\n",
        "Kerala.head()"
      ],
      "execution_count": null,
      "outputs": [
        {
          "output_type": "execute_result",
          "data": {
            "text/html": [
              "<div>\n",
              "<style scoped>\n",
              "    .dataframe tbody tr th:only-of-type {\n",
              "        vertical-align: middle;\n",
              "    }\n",
              "\n",
              "    .dataframe tbody tr th {\n",
              "        vertical-align: top;\n",
              "    }\n",
              "\n",
              "    .dataframe thead th {\n",
              "        text-align: right;\n",
              "    }\n",
              "</style>\n",
              "<table border=\"1\" class=\"dataframe\">\n",
              "  <thead>\n",
              "    <tr style=\"text-align: right;\">\n",
              "      <th></th>\n",
              "      <th>Rainfall</th>\n",
              "    </tr>\n",
              "    <tr>\n",
              "      <th>Month</th>\n",
              "      <th></th>\n",
              "    </tr>\n",
              "  </thead>\n",
              "  <tbody>\n",
              "    <tr>\n",
              "      <th>1901-01-01</th>\n",
              "      <td>28.7</td>\n",
              "    </tr>\n",
              "    <tr>\n",
              "      <th>1901-02-01</th>\n",
              "      <td>44.7</td>\n",
              "    </tr>\n",
              "    <tr>\n",
              "      <th>1901-03-01</th>\n",
              "      <td>51.6</td>\n",
              "    </tr>\n",
              "    <tr>\n",
              "      <th>1901-04-01</th>\n",
              "      <td>160.0</td>\n",
              "    </tr>\n",
              "    <tr>\n",
              "      <th>1901-05-01</th>\n",
              "      <td>174.7</td>\n",
              "    </tr>\n",
              "  </tbody>\n",
              "</table>\n",
              "</div>"
            ],
            "text/plain": [
              "            Rainfall\n",
              "Month               \n",
              "1901-01-01      28.7\n",
              "1901-02-01      44.7\n",
              "1901-03-01      51.6\n",
              "1901-04-01     160.0\n",
              "1901-05-01     174.7"
            ]
          },
          "metadata": {},
          "execution_count": 30
        }
      ]
    },
    {
      "cell_type": "code",
      "metadata": {
        "colab": {
          "base_uri": "https://localhost:8080/",
          "height": 300
        },
        "id": "TSdvyB4ftr7m",
        "outputId": "05bef94d-28ec-470e-bc32-ce9296e823ac"
      },
      "source": [
        "Kerala.describe()"
      ],
      "execution_count": null,
      "outputs": [
        {
          "output_type": "execute_result",
          "data": {
            "text/html": [
              "<div>\n",
              "<style scoped>\n",
              "    .dataframe tbody tr th:only-of-type {\n",
              "        vertical-align: middle;\n",
              "    }\n",
              "\n",
              "    .dataframe tbody tr th {\n",
              "        vertical-align: top;\n",
              "    }\n",
              "\n",
              "    .dataframe thead th {\n",
              "        text-align: right;\n",
              "    }\n",
              "</style>\n",
              "<table border=\"1\" class=\"dataframe\">\n",
              "  <thead>\n",
              "    <tr style=\"text-align: right;\">\n",
              "      <th></th>\n",
              "      <th>Rainfall</th>\n",
              "    </tr>\n",
              "  </thead>\n",
              "  <tbody>\n",
              "    <tr>\n",
              "      <th>count</th>\n",
              "      <td>1404.000000</td>\n",
              "    </tr>\n",
              "    <tr>\n",
              "      <th>mean</th>\n",
              "      <td>242.854701</td>\n",
              "    </tr>\n",
              "    <tr>\n",
              "      <th>std</th>\n",
              "      <td>256.429057</td>\n",
              "    </tr>\n",
              "    <tr>\n",
              "      <th>min</th>\n",
              "      <td>0.000000</td>\n",
              "    </tr>\n",
              "    <tr>\n",
              "      <th>25%</th>\n",
              "      <td>33.975000</td>\n",
              "    </tr>\n",
              "    <tr>\n",
              "      <th>50%</th>\n",
              "      <td>154.150000</td>\n",
              "    </tr>\n",
              "    <tr>\n",
              "      <th>75%</th>\n",
              "      <td>372.450000</td>\n",
              "    </tr>\n",
              "    <tr>\n",
              "      <th>max</th>\n",
              "      <td>1526.500000</td>\n",
              "    </tr>\n",
              "  </tbody>\n",
              "</table>\n",
              "</div>"
            ],
            "text/plain": [
              "          Rainfall\n",
              "count  1404.000000\n",
              "mean    242.854701\n",
              "std     256.429057\n",
              "min       0.000000\n",
              "25%      33.975000\n",
              "50%     154.150000\n",
              "75%     372.450000\n",
              "max    1526.500000"
            ]
          },
          "metadata": {},
          "execution_count": 31
        }
      ]
    },
    {
      "cell_type": "code",
      "metadata": {
        "colab": {
          "base_uri": "https://localhost:8080/",
          "height": 351
        },
        "id": "4xvwjypstxZ7",
        "outputId": "7f395f76-5e76-476d-a74b-65bcc342d193"
      },
      "source": [
        "# plotting rainfall for year 2007 to 2017\n",
        "plt.figure(figsize = (10, 5))\n",
        "Kerala.iloc[1272:, 0].plot()\n",
        "# from the plot we can see that the data is seasonal as it should be!"
      ],
      "execution_count": null,
      "outputs": [
        {
          "output_type": "execute_result",
          "data": {
            "text/plain": [
              "<matplotlib.axes._subplots.AxesSubplot at 0x7f92a7d30190>"
            ]
          },
          "metadata": {},
          "execution_count": 32
        },
        {
          "output_type": "display_data",
          "data": {
            "image/png": "[encoded data removed]",
            "text/plain": [
              "<Figure size 720x360 with 1 Axes>"
            ]
          },
          "metadata": {
            "needs_background": "light"
          }
        }
      ]
    },
    {
      "cell_type": "code",
      "metadata": {
        "id": "cxvhVmjpuWv0",
        "colab": {
          "base_uri": "https://localhost:8080/"
        },
        "outputId": "e957932f-f0d0-4dfb-9947-37e95ea9fa98"
      },
      "source": [
        "# Testing if the data is Stationary\n",
        "from statsmodels.tsa.stattools import adfuller\n",
        "test_result = adfuller(Kerala['Rainfall'])"
      ],
      "execution_count": null,
      "outputs": [
        {
          "output_type": "stream",
          "name": "stderr",
          "text": [
            "/usr/local/lib/python3.7/dist-packages/statsmodels/tools/_testing.py:19: FutureWarning: pandas.util.testing is deprecated. Use the functions in the public API at pandas.testing instead.\n",
            "  import pandas.util.testing as tm\n"
          ]
        }
      ]
    },
    {
      "cell_type": "code",
      "metadata": {
        "id": "FQDUInobvQKu"
      },
      "source": [
        "# H0: It is not stationary\n",
        "# H1: It is stationary\n",
        "\n",
        "def adfuller_test(rainfall):\n",
        "    result = adfuller(rainfall)\n",
        "    labels = ['ADF Test Statistic', 'p-value', '#Lags Used', 'Number of Observations Used']\n",
        "    for value, label in zip(result, labels):\n",
        "        print(label+' : '+str(value))\n",
        "    if result[1] <= 0.05:\n",
        "        print('Strong evidence against the null hypothesis(H0), hence reject the null hypothesis. \\nData has no unit root and is Stationary')\n",
        "    else: \n",
        "        print(\"Weak evidence against the null hypothesis, time series has a unit root, indicating it is not stationary\")"
      ],
      "execution_count": null,
      "outputs": []
    },
    {
      "cell_type": "code",
      "metadata": {
        "colab": {
          "base_uri": "https://localhost:8080/"
        },
        "id": "Rtcs_XZnw5hq",
        "outputId": "09a75a10-8a78-4bd5-b80c-b0b1767b3cb7"
      },
      "source": [
        "adfuller_test(Kerala['Rainfall'])"
      ],
      "execution_count": null,
      "outputs": [
        {
          "output_type": "stream",
          "name": "stdout",
          "text": [
            "ADF Test Statistic : -5.566642162971572\n",
            "p-value : 1.4995324076184994e-06\n",
            "#Lags Used : 24\n",
            "Number of Observations Used : 1379\n",
            "Strong evidence against the null hypothesis(H0), hence reject the null hypothesis. \n",
            "Data has no unit root and is Stationary\n"
          ]
        }
      ]
    },
    {
      "cell_type": "markdown",
      "metadata": {
        "id": "XGFb7VZGyQdo"
      },
      "source": [
        "**Forecasting Model ARIMA**"
      ]
    },
    {
      "cell_type": "markdown",
      "metadata": {
        "id": "Rx9x6P0TzBp4"
      },
      "source": [
        "Auto Regressive Model"
      ]
    },
    {
      "cell_type": "code",
      "metadata": {
        "colab": {
          "base_uri": "https://localhost:8080/",
          "height": 499
        },
        "id": "FYroA0H-zDcl",
        "outputId": "07965ec6-6d68-44e5-a17f-a7e92e0e7c1e"
      },
      "source": [
        "from statsmodels.graphics.tsaplots import plot_acf, plot_pacf\n",
        "\n",
        "fig = plt.figure(figsize=(12,8))\n",
        "ax1 = fig.add_subplot(211)\n",
        "fig = plot_acf(Kerala['Rainfall'], lags=40, ax=ax1)\n",
        "ax2 = fig.add_subplot(212)\n",
        "fig = plot_pacf(Kerala['Rainfall'], lags=40, ax=ax2)"
      ],
      "execution_count": null,
      "outputs": [
        {
          "output_type": "display_data",
          "data": {
            "image/png": "[encoded data removed]",
            "text/plain": [
              "<Figure size 864x576 with 2 Axes>"
            ]
          },
          "metadata": {
            "needs_background": "light"
          }
        }
      ]
    },
    {
      "cell_type": "markdown",
      "metadata": {
        "id": "g72rHSIp3bE_"
      },
      "source": [
        "Therefore, from above plot we set our p = 3 and q = 2 and since no shift was made hence d = 0."
      ]
    },
    {
      "cell_type": "code",
      "metadata": {
        "colab": {
          "base_uri": "https://localhost:8080/"
        },
        "id": "D78e6hlC02dN",
        "outputId": "976b6681-242c-498c-f3eb-faa4a7724ef1"
      },
      "source": [
        "# SARIMAX model since our data is Seasonal\n",
        "import statsmodels.api as sm\n",
        "\n",
        "model = sm.tsa.statespace.SARIMAX(Kerala['Rainfall'], order=(5,0,2), seasonal_order=(5,0,[],12))\n",
        "results = model.fit()"
      ],
      "execution_count": null,
      "outputs": [
        {
          "output_type": "stream",
          "name": "stderr",
          "text": [
            "/usr/local/lib/python3.7/dist-packages/statsmodels/tsa/base/tsa_model.py:165: ValueWarning: No frequency information was provided, so inferred frequency MS will be used.\n",
            "  % freq, ValueWarning)\n",
            "/usr/local/lib/python3.7/dist-packages/statsmodels/tsa/statespace/sarimax.py:949: UserWarning: Non-stationary starting autoregressive parameters found. Using zeros as starting parameters.\n",
            "  warn('Non-stationary starting autoregressive parameters'\n",
            "/usr/local/lib/python3.7/dist-packages/statsmodels/tsa/statespace/sarimax.py:961: UserWarning: Non-invertible starting MA parameters found. Using zeros as starting parameters.\n",
            "  warn('Non-invertible starting MA parameters found.'\n",
            "/usr/local/lib/python3.7/dist-packages/statsmodels/base/model.py:512: ConvergenceWarning: Maximum Likelihood optimization failed to converge. Check mle_retvals\n",
            "  \"Check mle_retvals\", ConvergenceWarning)\n"
          ]
        }
      ]
    },
    {
      "cell_type": "code",
      "metadata": {
        "colab": {
          "base_uri": "https://localhost:8080/",
          "height": 514
        },
        "id": "Eg1PUkEA7k-u",
        "outputId": "8e29a442-2c2a-43bc-bfd9-a0b35b4a9959"
      },
      "source": [
        "Kerala['forecast'] = results.predict(start = 1300, end = 1403, dynamic = True)\n",
        "Kerala[['Rainfall', 'forecast']].iloc[1272:].plot(figsize=(10,8))"
      ],
      "execution_count": null,
      "outputs": [
        {
          "output_type": "execute_result",
          "data": {
            "text/plain": [
              "<matplotlib.axes._subplots.AxesSubplot at 0x7f927ca488d0>"
            ]
          },
          "metadata": {},
          "execution_count": 38
        },
        {
          "output_type": "display_data",
          "data": {
            "image/png": "[encoded data removed]",
            "text/plain": [
              "<Figure size 720x576 with 1 Axes>"
            ]
          },
          "metadata": {
            "needs_background": "light"
          }
        }
      ]
    },
    {
      "cell_type": "markdown",
      "metadata": {
        "id": "B_crD08DFLsx"
      },
      "source": [
        "We can see that our forecast is quite accurate"
      ]
    },
    {
      "cell_type": "code",
      "metadata": {
        "colab": {
          "base_uri": "https://localhost:8080/"
        },
        "id": "5hRNmF6XJdX7",
        "outputId": "7d536ab3-1f39-430b-ee53-a7438a64f3f5"
      },
      "source": [
        "from sklearn.metrics import mean_absolute_error, r2_score\n",
        "\n",
        "mae = mean_absolute_error(Kerala['Rainfall'].iloc[1300:1404], Kerala['forecast'].iloc[1300:1404])\n",
        "print('Mean Absolute Error: ', mae)\n",
        "\n",
        "r_squared = r2_score(Kerala['Rainfall'].iloc[1300:1404], Kerala['forecast'].iloc[1300:1404])\n",
        "print('R Squared Error: ', r_squared)"
      ],
      "execution_count": null,
      "outputs": [
        {
          "output_type": "stream",
          "name": "stdout",
          "text": [
            "Mean Absolute Error:  81.9429291560626\n",
            "R Squared Error:  0.7329310542360321\n"
          ]
        }
      ]
    },
    {
      "cell_type": "code",
      "metadata": {
        "id": "WN11EJDU3cIA"
      },
      "source": [
        "# saving the csv file for later use\n",
        "Kerala.to_csv('/content/drive/MyDrive/Rainfall/Kerala.csv')"
      ],
      "execution_count": null,
      "outputs": []
    },
    {
      "cell_type": "code",
      "metadata": {
        "id": "-ky3abGN6OKm"
      },
      "source": [
        "import datetime\n",
        "start_date = datetime.datetime(2017,12,1)\n",
        "end_date = datetime.datetime(2019,12,1)\n",
        "\n",
        "num_months = (end_date.year - start_date.year) * 12 + (end_date.month - start_date.month)"
      ],
      "execution_count": null,
      "outputs": []
    },
    {
      "cell_type": "code",
      "metadata": {
        "id": "xNTUceDl--Ey"
      },
      "source": [
        "# prediction for future dates\n",
        "from pandas.tseries.offsets import DateOffset\n",
        "future_dates = [Kerala.index[-1] + DateOffset(months=x) for x in range(0,num_months+1)]"
      ],
      "execution_count": null,
      "outputs": []
    },
    {
      "cell_type": "code",
      "metadata": {
        "colab": {
          "base_uri": "https://localhost:8080/",
          "height": 802
        },
        "id": "eaNWOt3bFrtN",
        "outputId": "81c49131-6192-42b4-c3c8-3da543d9f4d0"
      },
      "source": [
        "future_dates_df = pd.DataFrame(index = future_dates[1:], columns = Kerala.columns)\n",
        "future_dates_df"
      ],
      "execution_count": null,
      "outputs": [
        {
          "output_type": "execute_result",
          "data": {
            "text/html": [
              "<div>\n",
              "<style scoped>\n",
              "    .dataframe tbody tr th:only-of-type {\n",
              "        vertical-align: middle;\n",
              "    }\n",
              "\n",
              "    .dataframe tbody tr th {\n",
              "        vertical-align: top;\n",
              "    }\n",
              "\n",
              "    .dataframe thead th {\n",
              "        text-align: right;\n",
              "    }\n",
              "</style>\n",
              "<table border=\"1\" class=\"dataframe\">\n",
              "  <thead>\n",
              "    <tr style=\"text-align: right;\">\n",
              "      <th></th>\n",
              "      <th>Rainfall</th>\n",
              "      <th>forecast</th>\n",
              "    </tr>\n",
              "  </thead>\n",
              "  <tbody>\n",
              "    <tr>\n",
              "      <th>2018-01-01</th>\n",
              "      <td>NaN</td>\n",
              "      <td>NaN</td>\n",
              "    </tr>\n",
              "    <tr>\n",
              "      <th>2018-02-01</th>\n",
              "      <td>NaN</td>\n",
              "      <td>NaN</td>\n",
              "    </tr>\n",
              "    <tr>\n",
              "      <th>2018-03-01</th>\n",
              "      <td>NaN</td>\n",
              "      <td>NaN</td>\n",
              "    </tr>\n",
              "    <tr>\n",
              "      <th>2018-04-01</th>\n",
              "      <td>NaN</td>\n",
              "      <td>NaN</td>\n",
              "    </tr>\n",
              "    <tr>\n",
              "      <th>2018-05-01</th>\n",
              "      <td>NaN</td>\n",
              "      <td>NaN</td>\n",
              "    </tr>\n",
              "    <tr>\n",
              "      <th>2018-06-01</th>\n",
              "      <td>NaN</td>\n",
              "      <td>NaN</td>\n",
              "    </tr>\n",
              "    <tr>\n",
              "      <th>2018-07-01</th>\n",
              "      <td>NaN</td>\n",
              "      <td>NaN</td>\n",
              "    </tr>\n",
              "    <tr>\n",
              "      <th>2018-08-01</th>\n",
              "      <td>NaN</td>\n",
              "      <td>NaN</td>\n",
              "    </tr>\n",
              "    <tr>\n",
              "      <th>2018-09-01</th>\n",
              "      <td>NaN</td>\n",
              "      <td>NaN</td>\n",
              "    </tr>\n",
              "    <tr>\n",
              "      <th>2018-10-01</th>\n",
              "      <td>NaN</td>\n",
              "      <td>NaN</td>\n",
              "    </tr>\n",
              "    <tr>\n",
              "      <th>2018-11-01</th>\n",
              "      <td>NaN</td>\n",
              "      <td>NaN</td>\n",
              "    </tr>\n",
              "    <tr>\n",
              "      <th>2018-12-01</th>\n",
              "      <td>NaN</td>\n",
              "      <td>NaN</td>\n",
              "    </tr>\n",
              "    <tr>\n",
              "      <th>2019-01-01</th>\n",
              "      <td>NaN</td>\n",
              "      <td>NaN</td>\n",
              "    </tr>\n",
              "    <tr>\n",
              "      <th>2019-02-01</th>\n",
              "      <td>NaN</td>\n",
              "      <td>NaN</td>\n",
              "    </tr>\n",
              "    <tr>\n",
              "      <th>2019-03-01</th>\n",
              "      <td>NaN</td>\n",
              "      <td>NaN</td>\n",
              "    </tr>\n",
              "    <tr>\n",
              "      <th>2019-04-01</th>\n",
              "      <td>NaN</td>\n",
              "      <td>NaN</td>\n",
              "    </tr>\n",
              "    <tr>\n",
              "      <th>2019-05-01</th>\n",
              "      <td>NaN</td>\n",
              "      <td>NaN</td>\n",
              "    </tr>\n",
              "    <tr>\n",
              "      <th>2019-06-01</th>\n",
              "      <td>NaN</td>\n",
              "      <td>NaN</td>\n",
              "    </tr>\n",
              "    <tr>\n",
              "      <th>2019-07-01</th>\n",
              "      <td>NaN</td>\n",
              "      <td>NaN</td>\n",
              "    </tr>\n",
              "    <tr>\n",
              "      <th>2019-08-01</th>\n",
              "      <td>NaN</td>\n",
              "      <td>NaN</td>\n",
              "    </tr>\n",
              "    <tr>\n",
              "      <th>2019-09-01</th>\n",
              "      <td>NaN</td>\n",
              "      <td>NaN</td>\n",
              "    </tr>\n",
              "    <tr>\n",
              "      <th>2019-10-01</th>\n",
              "      <td>NaN</td>\n",
              "      <td>NaN</td>\n",
              "    </tr>\n",
              "    <tr>\n",
              "      <th>2019-11-01</th>\n",
              "      <td>NaN</td>\n",
              "      <td>NaN</td>\n",
              "    </tr>\n",
              "    <tr>\n",
              "      <th>2019-12-01</th>\n",
              "      <td>NaN</td>\n",
              "      <td>NaN</td>\n",
              "    </tr>\n",
              "  </tbody>\n",
              "</table>\n",
              "</div>"
            ],
            "text/plain": [
              "           Rainfall forecast\n",
              "2018-01-01      NaN      NaN\n",
              "2018-02-01      NaN      NaN\n",
              "2018-03-01      NaN      NaN\n",
              "2018-04-01      NaN      NaN\n",
              "2018-05-01      NaN      NaN\n",
              "2018-06-01      NaN      NaN\n",
              "2018-07-01      NaN      NaN\n",
              "2018-08-01      NaN      NaN\n",
              "2018-09-01      NaN      NaN\n",
              "2018-10-01      NaN      NaN\n",
              "2018-11-01      NaN      NaN\n",
              "2018-12-01      NaN      NaN\n",
              "2019-01-01      NaN      NaN\n",
              "2019-02-01      NaN      NaN\n",
              "2019-03-01      NaN      NaN\n",
              "2019-04-01      NaN      NaN\n",
              "2019-05-01      NaN      NaN\n",
              "2019-06-01      NaN      NaN\n",
              "2019-07-01      NaN      NaN\n",
              "2019-08-01      NaN      NaN\n",
              "2019-09-01      NaN      NaN\n",
              "2019-10-01      NaN      NaN\n",
              "2019-11-01      NaN      NaN\n",
              "2019-12-01      NaN      NaN"
            ]
          },
          "metadata": {},
          "execution_count": 63
        }
      ]
    },
    {
      "cell_type": "code",
      "metadata": {
        "id": "XukzV9UfF8ed"
      },
      "source": [
        "future_df = pd.concat([Kerala, future_dates_df])"
      ],
      "execution_count": null,
      "outputs": []
    },
    {
      "cell_type": "code",
      "metadata": {
        "colab": {
          "base_uri": "https://localhost:8080/"
        },
        "id": "WW6DgqN8Gz8B",
        "outputId": "aba79fdc-b55a-4298-d7d8-9db707f70da1"
      },
      "source": [
        "future_df.shape[0] - 1"
      ],
      "execution_count": null,
      "outputs": [
        {
          "output_type": "execute_result",
          "data": {
            "text/plain": [
              "1427"
            ]
          },
          "metadata": {},
          "execution_count": 65
        }
      ]
    },
    {
      "cell_type": "code",
      "metadata": {
        "colab": {
          "base_uri": "https://localhost:8080/",
          "height": 500
        },
        "id": "rLkhWCVQGhTT",
        "outputId": "3b08f854-cd3d-42fe-e300-07bd96ce23c0"
      },
      "source": [
        "future_df['forecast'] = results.predict(start = 1403, end = 1427, dynamic = True)\n",
        "future_df[['Rainfall', 'forecast']].iloc[1300:].plot(figsize=(12,8))"
      ],
      "execution_count": null,
      "outputs": [
        {
          "output_type": "execute_result",
          "data": {
            "text/plain": [
              "<matplotlib.axes._subplots.AxesSubplot at 0x7f927afa74d0>"
            ]
          },
          "metadata": {},
          "execution_count": 69
        },
        {
          "output_type": "display_data",
          "data": {
            "image/png": "[encoded data removed]",
            "text/plain": [
              "<Figure size 864x576 with 1 Axes>"
            ]
          },
          "metadata": {
            "needs_background": "light"
          }
        }
      ]
    },
    {
      "cell_type": "code",
      "metadata": {
        "colab": {
          "base_uri": "https://localhost:8080/",
          "height": 206
        },
        "id": "9NDvzkG168n8",
        "outputId": "642c5232-3fe7-4c3c-a523-af27293e8311"
      },
      "source": [
        "future_df.tail()"
      ],
      "execution_count": null,
      "outputs": [
        {
          "output_type": "execute_result",
          "data": {
            "text/html": [
              "<div>\n",
              "<style scoped>\n",
              "    .dataframe tbody tr th:only-of-type {\n",
              "        vertical-align: middle;\n",
              "    }\n",
              "\n",
              "    .dataframe tbody tr th {\n",
              "        vertical-align: top;\n",
              "    }\n",
              "\n",
              "    .dataframe thead th {\n",
              "        text-align: right;\n",
              "    }\n",
              "</style>\n",
              "<table border=\"1\" class=\"dataframe\">\n",
              "  <thead>\n",
              "    <tr style=\"text-align: right;\">\n",
              "      <th></th>\n",
              "      <th>Rainfall</th>\n",
              "      <th>forecast</th>\n",
              "    </tr>\n",
              "  </thead>\n",
              "  <tbody>\n",
              "    <tr>\n",
              "      <th>2019-08-01</th>\n",
              "      <td>NaN</td>\n",
              "      <td>395.432559</td>\n",
              "    </tr>\n",
              "    <tr>\n",
              "      <th>2019-09-01</th>\n",
              "      <td>NaN</td>\n",
              "      <td>276.644770</td>\n",
              "    </tr>\n",
              "    <tr>\n",
              "      <th>2019-10-01</th>\n",
              "      <td>NaN</td>\n",
              "      <td>231.810606</td>\n",
              "    </tr>\n",
              "    <tr>\n",
              "      <th>2019-11-01</th>\n",
              "      <td>NaN</td>\n",
              "      <td>128.178571</td>\n",
              "    </tr>\n",
              "    <tr>\n",
              "      <th>2019-12-01</th>\n",
              "      <td>NaN</td>\n",
              "      <td>35.269481</td>\n",
              "    </tr>\n",
              "  </tbody>\n",
              "</table>\n",
              "</div>"
            ],
            "text/plain": [
              "            Rainfall    forecast\n",
              "2019-08-01       NaN  395.432559\n",
              "2019-09-01       NaN  276.644770\n",
              "2019-10-01       NaN  231.810606\n",
              "2019-11-01       NaN  128.178571\n",
              "2019-12-01       NaN   35.269481"
            ]
          },
          "metadata": {},
          "execution_count": 74
        }
      ]
    },
    {
      "cell_type": "code",
      "metadata": {
        "id": "8-9Sg0oIVAPp"
      },
      "source": [
        "results.save('/content/drive/MyDrive/Rainfall/forecast_model.pkl')"
      ],
      "execution_count": null,
      "outputs": []
    }
  ]
}